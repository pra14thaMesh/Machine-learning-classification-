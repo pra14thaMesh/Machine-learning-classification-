{
 "cells": [
  {
   "cell_type": "code",
   "execution_count": 1,
   "metadata": {},
   "outputs": [
    {
     "name": "stdout",
     "output_type": "stream",
     "text": [
      "(891, 11)\n",
      "(21, 11)\n"
     ]
    }
   ],
   "source": [
    "import pandas  as pd\n",
    "import numpy as np\n",
    "\n",
    "#Read the training data and testing data\n",
    "training_data = pd.read_excel(r'Titanic_Survival_train.xls', index_col=0,header=0)\n",
    "testing_data = pd.read_excel(r'Titanic_Survival_test.xls',index_col=0,header=0)\n",
    "print(training_data.shape)\n",
    "print(testing_data.shape)"
   ]
  },
  {
   "cell_type": "code",
   "execution_count": 2,
   "metadata": {},
   "outputs": [
    {
     "data": {
      "text/html": [
       "<div>\n",
       "<style scoped>\n",
       "    .dataframe tbody tr th:only-of-type {\n",
       "        vertical-align: middle;\n",
       "    }\n",
       "\n",
       "    .dataframe tbody tr th {\n",
       "        vertical-align: top;\n",
       "    }\n",
       "\n",
       "    .dataframe thead th {\n",
       "        text-align: right;\n",
       "    }\n",
       "</style>\n",
       "<table border=\"1\" class=\"dataframe\">\n",
       "  <thead>\n",
       "    <tr style=\"text-align: right;\">\n",
       "      <th></th>\n",
       "      <th>Survived</th>\n",
       "      <th>Pclass</th>\n",
       "      <th>Name</th>\n",
       "      <th>Sex</th>\n",
       "      <th>Age</th>\n",
       "      <th>SibSp</th>\n",
       "      <th>Parch</th>\n",
       "      <th>Ticket</th>\n",
       "      <th>Fare</th>\n",
       "      <th>Cabin</th>\n",
       "      <th>Embarked</th>\n",
       "    </tr>\n",
       "    <tr>\n",
       "      <th>PassengerId</th>\n",
       "      <th></th>\n",
       "      <th></th>\n",
       "      <th></th>\n",
       "      <th></th>\n",
       "      <th></th>\n",
       "      <th></th>\n",
       "      <th></th>\n",
       "      <th></th>\n",
       "      <th></th>\n",
       "      <th></th>\n",
       "      <th></th>\n",
       "    </tr>\n",
       "  </thead>\n",
       "  <tbody>\n",
       "    <tr>\n",
       "      <th>1</th>\n",
       "      <td>0</td>\n",
       "      <td>3</td>\n",
       "      <td>Braund, Mr. Owen Harris</td>\n",
       "      <td>male</td>\n",
       "      <td>22.0</td>\n",
       "      <td>1</td>\n",
       "      <td>0</td>\n",
       "      <td>A/5 21171</td>\n",
       "      <td>7.2500</td>\n",
       "      <td>NaN</td>\n",
       "      <td>S</td>\n",
       "    </tr>\n",
       "    <tr>\n",
       "      <th>2</th>\n",
       "      <td>1</td>\n",
       "      <td>1</td>\n",
       "      <td>Cumings, Mrs. John Bradley (Florence Briggs Th...</td>\n",
       "      <td>female</td>\n",
       "      <td>38.0</td>\n",
       "      <td>1</td>\n",
       "      <td>0</td>\n",
       "      <td>PC 17599</td>\n",
       "      <td>71.2833</td>\n",
       "      <td>C85</td>\n",
       "      <td>C</td>\n",
       "    </tr>\n",
       "    <tr>\n",
       "      <th>3</th>\n",
       "      <td>1</td>\n",
       "      <td>3</td>\n",
       "      <td>Heikkinen, Miss. Laina</td>\n",
       "      <td>female</td>\n",
       "      <td>26.0</td>\n",
       "      <td>0</td>\n",
       "      <td>0</td>\n",
       "      <td>STON/O2. 3101282</td>\n",
       "      <td>7.9250</td>\n",
       "      <td>NaN</td>\n",
       "      <td>S</td>\n",
       "    </tr>\n",
       "    <tr>\n",
       "      <th>4</th>\n",
       "      <td>1</td>\n",
       "      <td>1</td>\n",
       "      <td>Futrelle, Mrs. Jacques Heath (Lily May Peel)</td>\n",
       "      <td>female</td>\n",
       "      <td>35.0</td>\n",
       "      <td>1</td>\n",
       "      <td>0</td>\n",
       "      <td>113803</td>\n",
       "      <td>53.1000</td>\n",
       "      <td>C123</td>\n",
       "      <td>S</td>\n",
       "    </tr>\n",
       "    <tr>\n",
       "      <th>5</th>\n",
       "      <td>0</td>\n",
       "      <td>3</td>\n",
       "      <td>Allen, Mr. William Henry</td>\n",
       "      <td>male</td>\n",
       "      <td>35.0</td>\n",
       "      <td>0</td>\n",
       "      <td>0</td>\n",
       "      <td>373450</td>\n",
       "      <td>8.0500</td>\n",
       "      <td>NaN</td>\n",
       "      <td>S</td>\n",
       "    </tr>\n",
       "  </tbody>\n",
       "</table>\n",
       "</div>"
      ],
      "text/plain": [
       "             Survived  Pclass  \\\n",
       "PassengerId                     \n",
       "1                   0       3   \n",
       "2                   1       1   \n",
       "3                   1       3   \n",
       "4                   1       1   \n",
       "5                   0       3   \n",
       "\n",
       "                                                          Name     Sex   Age  \\\n",
       "PassengerId                                                                    \n",
       "1                                      Braund, Mr. Owen Harris    male  22.0   \n",
       "2            Cumings, Mrs. John Bradley (Florence Briggs Th...  female  38.0   \n",
       "3                                       Heikkinen, Miss. Laina  female  26.0   \n",
       "4                 Futrelle, Mrs. Jacques Heath (Lily May Peel)  female  35.0   \n",
       "5                                     Allen, Mr. William Henry    male  35.0   \n",
       "\n",
       "             SibSp  Parch            Ticket     Fare Cabin Embarked  \n",
       "PassengerId                                                          \n",
       "1                1      0         A/5 21171   7.2500   NaN        S  \n",
       "2                1      0          PC 17599  71.2833   C85        C  \n",
       "3                0      0  STON/O2. 3101282   7.9250   NaN        S  \n",
       "4                1      0            113803  53.1000  C123        S  \n",
       "5                0      0            373450   8.0500   NaN        S  "
      ]
     },
     "execution_count": 2,
     "metadata": {},
     "output_type": "execute_result"
    }
   ],
   "source": [
    "training_data.head()"
   ]
  },
  {
   "cell_type": "code",
   "execution_count": 3,
   "metadata": {},
   "outputs": [
    {
     "data": {
      "text/html": [
       "<div>\n",
       "<style scoped>\n",
       "    .dataframe tbody tr th:only-of-type {\n",
       "        vertical-align: middle;\n",
       "    }\n",
       "\n",
       "    .dataframe tbody tr th {\n",
       "        vertical-align: top;\n",
       "    }\n",
       "\n",
       "    .dataframe thead th {\n",
       "        text-align: right;\n",
       "    }\n",
       "</style>\n",
       "<table border=\"1\" class=\"dataframe\">\n",
       "  <thead>\n",
       "    <tr style=\"text-align: right;\">\n",
       "      <th></th>\n",
       "      <th>Survived</th>\n",
       "      <th>Pclass</th>\n",
       "      <th>Name</th>\n",
       "      <th>Sex</th>\n",
       "      <th>Age</th>\n",
       "      <th>SibSp</th>\n",
       "      <th>Parch</th>\n",
       "      <th>Ticket</th>\n",
       "      <th>Fare</th>\n",
       "      <th>Cabin</th>\n",
       "      <th>Embarked</th>\n",
       "    </tr>\n",
       "    <tr>\n",
       "      <th>PassengerId</th>\n",
       "      <th></th>\n",
       "      <th></th>\n",
       "      <th></th>\n",
       "      <th></th>\n",
       "      <th></th>\n",
       "      <th></th>\n",
       "      <th></th>\n",
       "      <th></th>\n",
       "      <th></th>\n",
       "      <th></th>\n",
       "      <th></th>\n",
       "    </tr>\n",
       "  </thead>\n",
       "  <tbody>\n",
       "    <tr>\n",
       "      <th>871</th>\n",
       "      <td>0</td>\n",
       "      <td>3</td>\n",
       "      <td>Balkic, Mr. Cerin</td>\n",
       "      <td>male</td>\n",
       "      <td>26.0</td>\n",
       "      <td>0</td>\n",
       "      <td>0</td>\n",
       "      <td>349248</td>\n",
       "      <td>7.8958</td>\n",
       "      <td>NaN</td>\n",
       "      <td>S</td>\n",
       "    </tr>\n",
       "    <tr>\n",
       "      <th>872</th>\n",
       "      <td>1</td>\n",
       "      <td>1</td>\n",
       "      <td>Beckwith, Mrs. Richard Leonard (Sallie Monypeny)</td>\n",
       "      <td>female</td>\n",
       "      <td>47.0</td>\n",
       "      <td>1</td>\n",
       "      <td>1</td>\n",
       "      <td>11751</td>\n",
       "      <td>52.5542</td>\n",
       "      <td>D35</td>\n",
       "      <td>S</td>\n",
       "    </tr>\n",
       "    <tr>\n",
       "      <th>873</th>\n",
       "      <td>0</td>\n",
       "      <td>1</td>\n",
       "      <td>Carlsson, Mr. Frans Olof</td>\n",
       "      <td>male</td>\n",
       "      <td>33.0</td>\n",
       "      <td>0</td>\n",
       "      <td>0</td>\n",
       "      <td>695</td>\n",
       "      <td>5.0000</td>\n",
       "      <td>B51 B53 B55</td>\n",
       "      <td>S</td>\n",
       "    </tr>\n",
       "    <tr>\n",
       "      <th>874</th>\n",
       "      <td>0</td>\n",
       "      <td>3</td>\n",
       "      <td>Vander Cruyssen, Mr. Victor</td>\n",
       "      <td>male</td>\n",
       "      <td>47.0</td>\n",
       "      <td>0</td>\n",
       "      <td>0</td>\n",
       "      <td>345765</td>\n",
       "      <td>9.0000</td>\n",
       "      <td>NaN</td>\n",
       "      <td>S</td>\n",
       "    </tr>\n",
       "    <tr>\n",
       "      <th>875</th>\n",
       "      <td>1</td>\n",
       "      <td>2</td>\n",
       "      <td>Abelson, Mrs. Samuel (Hannah Wizosky)</td>\n",
       "      <td>female</td>\n",
       "      <td>28.0</td>\n",
       "      <td>1</td>\n",
       "      <td>0</td>\n",
       "      <td>P/PP 3381</td>\n",
       "      <td>24.0000</td>\n",
       "      <td>NaN</td>\n",
       "      <td>C</td>\n",
       "    </tr>\n",
       "  </tbody>\n",
       "</table>\n",
       "</div>"
      ],
      "text/plain": [
       "             Survived  Pclass  \\\n",
       "PassengerId                     \n",
       "871                 0       3   \n",
       "872                 1       1   \n",
       "873                 0       1   \n",
       "874                 0       3   \n",
       "875                 1       2   \n",
       "\n",
       "                                                         Name     Sex   Age  \\\n",
       "PassengerId                                                                   \n",
       "871                                         Balkic, Mr. Cerin    male  26.0   \n",
       "872          Beckwith, Mrs. Richard Leonard (Sallie Monypeny)  female  47.0   \n",
       "873                                  Carlsson, Mr. Frans Olof    male  33.0   \n",
       "874                               Vander Cruyssen, Mr. Victor    male  47.0   \n",
       "875                     Abelson, Mrs. Samuel (Hannah Wizosky)  female  28.0   \n",
       "\n",
       "             SibSp  Parch     Ticket     Fare        Cabin Embarked  \n",
       "PassengerId                                                          \n",
       "871              0      0     349248   7.8958          NaN        S  \n",
       "872              1      1      11751  52.5542          D35        S  \n",
       "873              0      0        695   5.0000  B51 B53 B55        S  \n",
       "874              0      0     345765   9.0000          NaN        S  \n",
       "875              1      0  P/PP 3381  24.0000          NaN        C  "
      ]
     },
     "execution_count": 3,
     "metadata": {},
     "output_type": "execute_result"
    }
   ],
   "source": [
    "testing_data.head()"
   ]
  },
  {
   "cell_type": "code",
   "execution_count": 4,
   "metadata": {},
   "outputs": [
    {
     "name": "stdout",
     "output_type": "stream",
     "text": [
      "(891, 5)\n",
      "(21, 5)\n"
     ]
    }
   ],
   "source": [
    "#feature selection \n",
    "training_data = training_data[['Name','Pclass','Sex','Age','Survived']]\n",
    "testing_data = testing_data[['Name','Pclass','Sex','Age','Survived']]\n",
    "print(training_data.shape)\n",
    "print(testing_data.shape)"
   ]
  },
  {
   "cell_type": "code",
   "execution_count": 5,
   "metadata": {},
   "outputs": [
    {
     "name": "stdout",
     "output_type": "stream",
     "text": [
      "Name          0\n",
      "Pclass        0\n",
      "Sex           0\n",
      "Age         177\n",
      "Survived      0\n",
      "dtype: int64\n",
      "Name        0\n",
      "Pclass      0\n",
      "Sex         0\n",
      "Age         2\n",
      "Survived    0\n",
      "dtype: int64\n"
     ]
    }
   ],
   "source": [
    "#finding the missing values\n",
    "print(training_data.isnull().sum())\n",
    "print(testing_data.isnull().sum())"
   ]
  },
  {
   "cell_type": "code",
   "execution_count": 6,
   "metadata": {
    "collapsed": true
   },
   "outputs": [
    {
     "name": "stdout",
     "output_type": "stream",
     "text": [
      "Name        0\n",
      "Pclass      0\n",
      "Sex         0\n",
      "Age         0\n",
      "Survived    0\n",
      "dtype: int64\n",
      "Name        0\n",
      "Pclass      0\n",
      "Sex         0\n",
      "Age         0\n",
      "Survived    0\n",
      "dtype: int64\n"
     ]
    }
   ],
   "source": [
    "#imputing numerical missing data with mean value\n",
    "\n",
    "training_data[\"Age\"].fillna(int(training_data[\"Age\"].mean()),inplace=True)\n",
    "print(training_data.isnull().sum())\n",
    "#imputing numerical missing data with mean value\n",
    "\n",
    "testing_data[\"Age\"].fillna(int(testing_data[\"Age\"].mean()),inplace=True)\n",
    "print(testing_data.isnull().sum())"
   ]
  },
  {
   "cell_type": "code",
   "execution_count": 7,
   "metadata": {},
   "outputs": [
    {
     "name": "stdout",
     "output_type": "stream",
     "text": [
      "Age    29.551286\n",
      "dtype: float64\n",
      "29.56023569023569\n"
     ]
    }
   ],
   "source": [
    "print(training_data.loc[:871,[\"Age\"]].mean())\n",
    "print(training_data[\"Age\"].mean())"
   ]
  },
  {
   "cell_type": "code",
   "execution_count": 8,
   "metadata": {},
   "outputs": [],
   "source": [
    "#transforming categorical data to numerical\n",
    "\n",
    "from sklearn import preprocessing\n",
    "\n",
    "colname=['Sex']\n",
    "\n",
    "le=preprocessing.LabelEncoder()\n",
    "\n",
    "for x in colname:\n",
    "    training_data[x]=le.fit_transform(training_data[x])\n",
    "    testing_data[x]=le.fit_transform(testing_data[x])\n",
    "    \n",
    "#training_data[\"Sex\"]=training_data[\"Sex\"].map({\"female\":0,\"male\":1})\n",
    "#testing_data[\"Sex\"]=testing_data[\"Sex\"].map({\"female\":0,\"male\":1})\n"
   ]
  },
  {
   "cell_type": "code",
   "execution_count": 9,
   "metadata": {},
   "outputs": [
    {
     "name": "stdout",
     "output_type": "stream",
     "text": [
      "                                                          Name  Pclass  Sex  \\\n",
      "PassengerId                                                                   \n",
      "1                                      Braund, Mr. Owen Harris       3    1   \n",
      "2            Cumings, Mrs. John Bradley (Florence Briggs Th...       1    0   \n",
      "3                                       Heikkinen, Miss. Laina       3    0   \n",
      "4                 Futrelle, Mrs. Jacques Heath (Lily May Peel)       1    0   \n",
      "5                                     Allen, Mr. William Henry       3    1   \n",
      "\n",
      "              Age  Survived  \n",
      "PassengerId                  \n",
      "1            22.0         0  \n",
      "2            38.0         1  \n",
      "3            26.0         1  \n",
      "4            35.0         1  \n",
      "5            35.0         0  \n",
      "                                                         Name  Pclass  Sex  \\\n",
      "PassengerId                                                                  \n",
      "871                                         Balkic, Mr. Cerin       3    1   \n",
      "872          Beckwith, Mrs. Richard Leonard (Sallie Monypeny)       1    0   \n",
      "873                                  Carlsson, Mr. Frans Olof       1    1   \n",
      "874                               Vander Cruyssen, Mr. Victor       3    1   \n",
      "875                     Abelson, Mrs. Samuel (Hannah Wizosky)       2    0   \n",
      "\n",
      "              Age  Survived  \n",
      "PassengerId                  \n",
      "871          26.0         0  \n",
      "872          47.0         1  \n",
      "873          33.0         0  \n",
      "874          47.0         0  \n",
      "875          28.0         1  \n"
     ]
    }
   ],
   "source": [
    "print(training_data.head())\n",
    "\n",
    "print(testing_data.head())"
   ]
  },
  {
   "cell_type": "code",
   "execution_count": 10,
   "metadata": {},
   "outputs": [
    {
     "data": {
      "text/plain": [
       "Name        Johnson, Master. Harold Theodor\n",
       "Pclass                                    3\n",
       "Sex                                       1\n",
       "Age                                       4\n",
       "Survived                                  1\n",
       "Name: 870, dtype: object"
      ]
     },
     "execution_count": 10,
     "metadata": {},
     "output_type": "execute_result"
    }
   ],
   "source": [
    "training_data.iloc[869,:]"
   ]
  },
  {
   "cell_type": "code",
   "execution_count": 11,
   "metadata": {},
   "outputs": [],
   "source": [
    "X_train=training_data.values[:870,1:-1]\n",
    "Y_train=training_data.values[:870,-1]\n",
    "Y_train=Y_train.astype(int)\n",
    "\n",
    "X_test=testing_data.values[:,1:-1]\n",
    "Y_test=testing_data.values[:,-1]\n",
    "Y_test=Y_test.astype(int)"
   ]
  },
  {
   "cell_type": "code",
   "execution_count": 12,
   "metadata": {},
   "outputs": [
    {
     "data": {
      "text/plain": [
       "(870, 3)"
      ]
     },
     "execution_count": 12,
     "metadata": {},
     "output_type": "execute_result"
    }
   ],
   "source": [
    "X_train.shape"
   ]
  },
  {
   "cell_type": "code",
   "execution_count": 13,
   "metadata": {},
   "outputs": [],
   "source": [
    "from sklearn.preprocessing import StandardScaler\n",
    "\n",
    "scaler = StandardScaler()\n",
    "\n",
    "scaler.fit(X_train)\n",
    "\n",
    "X_train = scaler.transform(X_train)\n",
    "X_test=scaler.transform(X_test)\n",
    "#while working on separate train and test data, fit the scaler object only upon the train data \n",
    "#and use the same scaler object to transform both the train as well as the test data."
   ]
  },
  {
   "cell_type": "code",
   "execution_count": 15,
   "metadata": {},
   "outputs": [
    {
     "name": "stdout",
     "output_type": "stream",
     "text": [
      "[(0, 0), (1, 1), (0, 0), (0, 0), (1, 1), (1, 0), (0, 0), (0, 0), (0, 0), (1, 1), (1, 1), (0, 0), (0, 0), (0, 0), (0, 0), (0, 0), (0, 0), (1, 1), (0, 0), (1, 0), (0, 0)]\n"
     ]
    }
   ],
   "source": [
    "#predicting using the KNeighbors_Classifier\n",
    "import numpy as np\n",
    "from sklearn.neighbors import KNeighborsClassifier\n",
    "model_KNN=KNeighborsClassifier(n_neighbors=int(np.sqrt(len(X_train))), \n",
    "                               metric='euclidean')\n",
    "#fit the model on the data and predict the values\n",
    "model_KNN.fit(X_train,Y_train)\n",
    "\n",
    "Y_pred=model_KNN.predict(X_test)\n",
    "print(list(zip(Y_test,Y_pred)))"
   ]
  },
  {
   "cell_type": "code",
   "execution_count": 14,
   "metadata": {},
   "outputs": [
    {
     "data": {
      "text/plain": [
       "29.49576240750525"
      ]
     },
     "execution_count": 14,
     "metadata": {},
     "output_type": "execute_result"
    }
   ],
   "source": [
    "import numpy as np\n",
    "np.sqrt(len(X_train))"
   ]
  },
  {
   "cell_type": "code",
   "execution_count": 16,
   "metadata": {},
   "outputs": [
    {
     "name": "stdout",
     "output_type": "stream",
     "text": [
      "[[14  0]\n",
      " [ 2  5]]\n",
      "\n",
      "Classification report: \n",
      "              precision    recall  f1-score   support\n",
      "\n",
      "           0       0.88      1.00      0.93        14\n",
      "           1       1.00      0.71      0.83         7\n",
      "\n",
      "    accuracy                           0.90        21\n",
      "   macro avg       0.94      0.86      0.88        21\n",
      "weighted avg       0.92      0.90      0.90        21\n",
      "\n",
      "Accuracy of the model:  0.9047619047619048\n"
     ]
    }
   ],
   "source": [
    "from sklearn.metrics import confusion_matrix, accuracy_score,classification_report\n",
    "\n",
    "cfm=confusion_matrix(Y_test,Y_pred)\n",
    "print(cfm)\n",
    "print()\n",
    "\n",
    "print(\"Classification report: \")\n",
    "\n",
    "print(classification_report(Y_test,Y_pred))\n",
    "\n",
    "acc=accuracy_score(Y_test, Y_pred)\n",
    "print(\"Accuracy of the model: \",acc)"
   ]
  },
  {
   "cell_type": "code",
   "execution_count": 17,
   "metadata": {
    "collapsed": true
   },
   "outputs": [
    {
     "name": "stdout",
     "output_type": "stream",
     "text": [
      "Accuracy is  0.8095238095238095 for K-Value: 1\n",
      "Accuracy is  0.8095238095238095 for K-Value: 2\n",
      "Accuracy is  0.8095238095238095 for K-Value: 3\n",
      "Accuracy is  0.8095238095238095 for K-Value: 4\n",
      "Accuracy is  0.8571428571428571 for K-Value: 5\n",
      "Accuracy is  0.8571428571428571 for K-Value: 6\n",
      "Accuracy is  0.8571428571428571 for K-Value: 7\n",
      "Accuracy is  0.9047619047619048 for K-Value: 8\n",
      "Accuracy is  0.8571428571428571 for K-Value: 9\n",
      "Accuracy is  0.8571428571428571 for K-Value: 10\n",
      "Accuracy is  0.8571428571428571 for K-Value: 11\n",
      "Accuracy is  0.9047619047619048 for K-Value: 12\n",
      "Accuracy is  0.9047619047619048 for K-Value: 13\n",
      "Accuracy is  0.9523809523809523 for K-Value: 14\n",
      "Accuracy is  0.9047619047619048 for K-Value: 15\n",
      "Accuracy is  0.9047619047619048 for K-Value: 16\n",
      "Accuracy is  0.8095238095238095 for K-Value: 17\n",
      "Accuracy is  0.8095238095238095 for K-Value: 18\n",
      "Accuracy is  0.8571428571428571 for K-Value: 19\n",
      "Accuracy is  0.8571428571428571 for K-Value: 20\n",
      "Accuracy is  0.8571428571428571 for K-Value: 21\n",
      "Accuracy is  0.9523809523809523 for K-Value: 22\n",
      "Accuracy is  0.8571428571428571 for K-Value: 23\n",
      "Accuracy is  0.9047619047619048 for K-Value: 24\n",
      "Accuracy is  0.9047619047619048 for K-Value: 25\n",
      "Accuracy is  0.9047619047619048 for K-Value: 26\n",
      "Accuracy is  0.9047619047619048 for K-Value: 27\n",
      "Accuracy is  0.9047619047619048 for K-Value: 28\n",
      "Accuracy is  0.9047619047619048 for K-Value: 29\n",
      "Accuracy is  0.9047619047619048 for K-Value: 30\n"
     ]
    }
   ],
   "source": [
    "from sklearn.metrics import accuracy_score\n",
    "my_dict={}\n",
    "for K in range(1,31):\n",
    "    model_KNN = KNeighborsClassifier(n_neighbors=K,metric=\"euclidean\")\n",
    "    model_KNN.fit(X_train, Y_train) \n",
    "    Y_pred = model_KNN.predict(X_test)\n",
    "    print (\"Accuracy is \", accuracy_score(Y_test,Y_pred), \"for K-Value:\",K)\n",
    "    my_dict[K]=accuracy_score(Y_test,Y_pred)\n",
    "\n"
   ]
  },
  {
   "cell_type": "code",
   "execution_count": 18,
   "metadata": {},
   "outputs": [
    {
     "name": "stdout",
     "output_type": "stream",
     "text": [
      "14 : 0.9523809523809523\n",
      "22 : 0.9523809523809523\n"
     ]
    }
   ],
   "source": [
    "for k in my_dict:\n",
    "    if my_dict[k]==max(my_dict.values()):\n",
    "        print(k,\":\",my_dict[k])"
   ]
  },
  {
   "cell_type": "code",
   "execution_count": 23,
   "metadata": {},
   "outputs": [
    {
     "name": "stdout",
     "output_type": "stream",
     "text": [
      "[(0, 0), (1, 1), (0, 1), (0, 0), (1, 1), (1, 1), (0, 0), (0, 0), (0, 0), (1, 1), (1, 1), (0, 0), (0, 0), (0, 0), (0, 0), (0, 0), (0, 0), (1, 1), (0, 0), (1, 1), (0, 0)]\n"
     ]
    }
   ],
   "source": [
    "#predicting using the KNeighbors_Classifier\n",
    "import numpy as np\n",
    "from sklearn.neighbors import KNeighborsClassifier\n",
    "model_KNN=KNeighborsClassifier(n_neighbors=14, metric='manhattan')\n",
    "#euclidean, manhattan,minkowski\n",
    "#fit the model on the data and predict the values\n",
    "model_KNN.fit(X_train,Y_train)\n",
    "\n",
    "Y_pred=model_KNN.predict(X_test)\n",
    "print(list(zip(Y_test,Y_pred)))"
   ]
  },
  {
   "cell_type": "code",
   "execution_count": 24,
   "metadata": {},
   "outputs": [
    {
     "name": "stdout",
     "output_type": "stream",
     "text": [
      "[[13  1]\n",
      " [ 0  7]]\n",
      "\n",
      "Classification report: \n",
      "              precision    recall  f1-score   support\n",
      "\n",
      "           0       1.00      0.93      0.96        14\n",
      "           1       0.88      1.00      0.93         7\n",
      "\n",
      "    accuracy                           0.95        21\n",
      "   macro avg       0.94      0.96      0.95        21\n",
      "weighted avg       0.96      0.95      0.95        21\n",
      "\n",
      "Accuracy of the model:  0.9523809523809523\n"
     ]
    }
   ],
   "source": [
    "from sklearn.metrics import confusion_matrix, accuracy_score,classification_report\n",
    "\n",
    "confusion_matrix=confusion_matrix(Y_test,Y_pred)\n",
    "print(confusion_matrix)\n",
    "print()\n",
    "print(\"Classification report: \")\n",
    "\n",
    "print(classification_report(Y_test,Y_pred))\n",
    "\n",
    "accuracy_score=accuracy_score(Y_test, Y_pred)\n",
    "print(\"Accuracy of the model: \",accuracy_score)"
   ]
  },
  {
   "cell_type": "code",
   "execution_count": 25,
   "metadata": {},
   "outputs": [
    {
     "name": "stdout",
     "output_type": "stream",
     "text": [
      "[(0, 0), (1, 1), (0, 0), (0, 0), (1, 1), (1, 1), (0, 0), (0, 0), (0, 0), (1, 1), (1, 1), (0, 0), (0, 1), (0, 0), (0, 0), (0, 0), (0, 0), (1, 1), (0, 1), (1, 1), (0, 0)]\n"
     ]
    }
   ],
   "source": [
    "from sklearn.linear_model import LogisticRegression\n",
    "#create a model\n",
    "classifier=LogisticRegression()\n",
    "#fitting training data to the model\n",
    "classifier.fit(X_train,Y_train)\n",
    "\n",
    "Y_pred=classifier.predict(X_test)\n",
    "print(list(zip(Y_test,Y_pred)))"
   ]
  },
  {
   "cell_type": "code",
   "execution_count": 26,
   "metadata": {},
   "outputs": [
    {
     "name": "stdout",
     "output_type": "stream",
     "text": [
      "[[12  2]\n",
      " [ 0  7]]\n",
      "\n",
      "Classification report: \n",
      "              precision    recall  f1-score   support\n",
      "\n",
      "           0       1.00      0.86      0.92        14\n",
      "           1       0.78      1.00      0.88         7\n",
      "\n",
      "    accuracy                           0.90        21\n",
      "   macro avg       0.89      0.93      0.90        21\n",
      "weighted avg       0.93      0.90      0.91        21\n",
      "\n",
      "Accuracy of the model:  0.9047619047619048\n"
     ]
    }
   ],
   "source": [
    "from sklearn.metrics import confusion_matrix, accuracy_score,classification_report\n",
    "\n",
    "confusion_matrix=confusion_matrix(Y_test,Y_pred)\n",
    "print(confusion_matrix)\n",
    "print()\n",
    "print(\"Classification report: \")\n",
    "\n",
    "print(classification_report(Y_test,Y_pred))\n",
    "\n",
    "accuracy_score=accuracy_score(Y_test, Y_pred)\n",
    "print(\"Accuracy of the model: \",accuracy_score)"
   ]
  },
  {
   "cell_type": "code",
   "execution_count": null,
   "metadata": {},
   "outputs": [],
   "source": [
    "testing_data[\"Y_pred\"]=Y_pred\n",
    "testing_data\n"
   ]
  },
  {
   "cell_type": "markdown",
   "metadata": {},
   "source": [
    "# Regression using KNN"
   ]
  },
  {
   "cell_type": "code",
   "execution_count": 27,
   "metadata": {},
   "outputs": [
    {
     "data": {
      "text/html": [
       "<div>\n",
       "<style scoped>\n",
       "    .dataframe tbody tr th:only-of-type {\n",
       "        vertical-align: middle;\n",
       "    }\n",
       "\n",
       "    .dataframe tbody tr th {\n",
       "        vertical-align: top;\n",
       "    }\n",
       "\n",
       "    .dataframe thead th {\n",
       "        text-align: right;\n",
       "    }\n",
       "</style>\n",
       "<table border=\"1\" class=\"dataframe\">\n",
       "  <thead>\n",
       "    <tr style=\"text-align: right;\">\n",
       "      <th></th>\n",
       "      <th>TV</th>\n",
       "      <th>radio</th>\n",
       "      <th>newspaper</th>\n",
       "      <th>sales</th>\n",
       "    </tr>\n",
       "  </thead>\n",
       "  <tbody>\n",
       "    <tr>\n",
       "      <th>1</th>\n",
       "      <td>230.1</td>\n",
       "      <td>37.8</td>\n",
       "      <td>69.2</td>\n",
       "      <td>22.1</td>\n",
       "    </tr>\n",
       "    <tr>\n",
       "      <th>2</th>\n",
       "      <td>44.5</td>\n",
       "      <td>39.3</td>\n",
       "      <td>45.1</td>\n",
       "      <td>10.4</td>\n",
       "    </tr>\n",
       "    <tr>\n",
       "      <th>3</th>\n",
       "      <td>17.2</td>\n",
       "      <td>45.9</td>\n",
       "      <td>69.3</td>\n",
       "      <td>9.3</td>\n",
       "    </tr>\n",
       "    <tr>\n",
       "      <th>4</th>\n",
       "      <td>151.5</td>\n",
       "      <td>41.3</td>\n",
       "      <td>58.5</td>\n",
       "      <td>18.5</td>\n",
       "    </tr>\n",
       "    <tr>\n",
       "      <th>5</th>\n",
       "      <td>180.8</td>\n",
       "      <td>10.8</td>\n",
       "      <td>58.4</td>\n",
       "      <td>12.9</td>\n",
       "    </tr>\n",
       "  </tbody>\n",
       "</table>\n",
       "</div>"
      ],
      "text/plain": [
       "      TV  radio  newspaper  sales\n",
       "1  230.1   37.8       69.2   22.1\n",
       "2   44.5   39.3       45.1   10.4\n",
       "3   17.2   45.9       69.3    9.3\n",
       "4  151.5   41.3       58.5   18.5\n",
       "5  180.8   10.8       58.4   12.9"
      ]
     },
     "execution_count": 27,
     "metadata": {},
     "output_type": "execute_result"
    }
   ],
   "source": [
    "# read data into a DataFrame\n",
    "data = pd.read_csv(r'Advertising.csv', index_col=0,header=0)\n",
    "data.head()"
   ]
  },
  {
   "cell_type": "code",
   "execution_count": 28,
   "metadata": {},
   "outputs": [
    {
     "data": {
      "text/plain": [
       "TV           0\n",
       "radio        0\n",
       "newspaper    0\n",
       "sales        0\n",
       "dtype: int64"
      ]
     },
     "execution_count": 28,
     "metadata": {},
     "output_type": "execute_result"
    }
   ],
   "source": [
    "data.isnull().sum()"
   ]
  },
  {
   "cell_type": "code",
   "execution_count": 29,
   "metadata": {},
   "outputs": [],
   "source": [
    "# create X and y\n",
    "X = data[['TV', 'radio', 'newspaper']]\n",
    "Y = data['sales']"
   ]
  },
  {
   "cell_type": "code",
   "execution_count": 30,
   "metadata": {},
   "outputs": [],
   "source": [
    "from sklearn.model_selection import train_test_split\n",
    "#Split the data into test and train\n",
    "X_train, X_test, Y_train, Y_test = train_test_split(X, Y, test_size=0.2,\n",
    "                                                    random_state=10)  "
   ]
  },
  {
   "cell_type": "code",
   "execution_count": 35,
   "metadata": {},
   "outputs": [],
   "source": [
    "#predicting using the KNeighbors_Regressor\n",
    "from sklearn.neighbors import KNeighborsRegressor\n",
    "model_KNN=KNeighborsRegressor(n_neighbors=3, metric='euclidean')\n",
    "#fit the model on the data and predict the values\n",
    "model_KNN.fit(X_train,Y_train)\n",
    "Y_pred=model_KNN.predict(X_test)"
   ]
  },
  {
   "cell_type": "code",
   "execution_count": 31,
   "metadata": {},
   "outputs": [
    {
     "data": {
      "text/plain": [
       "12"
      ]
     },
     "execution_count": 31,
     "metadata": {},
     "output_type": "execute_result"
    }
   ],
   "source": [
    "int(np.sqrt(len(X_train)))"
   ]
  },
  {
   "cell_type": "code",
   "execution_count": 36,
   "metadata": {},
   "outputs": [
    {
     "name": "stdout",
     "output_type": "stream",
     "text": [
      "0.9411330460488659\n",
      "1.5478569414229182\n"
     ]
    },
    {
     "data": {
      "text/plain": [
       "'\\nUsing Linear Regression:\\nRSquare=0.8348\\nRMSE=2.59\\n\\n'"
      ]
     },
     "execution_count": 36,
     "metadata": {},
     "output_type": "execute_result"
    }
   ],
   "source": [
    "from sklearn.metrics import r2_score,mean_squared_error\n",
    "r2score=r2_score(Y_test,Y_pred)\n",
    "print(r2score)\n",
    "rmse=np.sqrt(mean_squared_error(Y_test,Y_pred))\n",
    "print(rmse)\n",
    "\n",
    "\"\"\"\n",
    "Using Linear Regression:\n",
    "RSquare=0.8348\n",
    "RMSE=2.59\n",
    "\n",
    "\"\"\""
   ]
  },
  {
   "cell_type": "code",
   "execution_count": 34,
   "metadata": {},
   "outputs": [
    {
     "name": "stdout",
     "output_type": "stream",
     "text": [
      "R-square is  0.947505618529669 for K-Value: 1\n",
      "R-square is  0.9293159406535845 for K-Value: 2\n",
      "R-square is  0.9411330460488659 for K-Value: 3\n",
      "R-square is  0.9394530965066451 for K-Value: 4\n",
      "R-square is  0.9284857726620428 for K-Value: 5\n",
      "R-square is  0.9171381300471962 for K-Value: 6\n",
      "R-square is  0.8986986579101233 for K-Value: 7\n",
      "R-square is  0.8941504138170911 for K-Value: 8\n",
      "R-square is  0.8798578264845459 for K-Value: 9\n",
      "R-square is  0.8608042002876257 for K-Value: 10\n",
      "R-square is  0.8470466691144289 for K-Value: 11\n",
      "R-square is  0.8483613805522731 for K-Value: 12\n",
      "R-square is  0.8510763597780449 for K-Value: 13\n",
      "R-square is  0.8490397921317565 for K-Value: 14\n",
      "R-square is  0.8496233693296317 for K-Value: 15\n"
     ]
    }
   ],
   "source": [
    "from sklearn.metrics import r2_score\n",
    "\n",
    "for K in range(1,16):\n",
    "    model_KNN = KNeighborsRegressor(K,metric=\"euclidean\")\n",
    "    model_KNN.fit(X_train, Y_train) \n",
    "    Y_pred = model_KNN.predict(X_test)\n",
    "    print (\"R-square is \", r2_score(Y_test,Y_pred), \"for K-Value:\",K)"
   ]
  },
  {
   "cell_type": "code",
   "execution_count": null,
   "metadata": {},
   "outputs": [],
   "source": []
  },
  {
   "cell_type": "code",
   "execution_count": null,
   "metadata": {},
   "outputs": [],
   "source": []
  },
  {
   "cell_type": "code",
   "execution_count": null,
   "metadata": {},
   "outputs": [],
   "source": []
  },
  {
   "cell_type": "code",
   "execution_count": null,
   "metadata": {},
   "outputs": [],
   "source": []
  }
 ],
 "metadata": {
  "kernelspec": {
   "display_name": "Python 3",
   "language": "python",
   "name": "python3"
  },
  "language_info": {
   "codemirror_mode": {
    "name": "ipython",
    "version": 3
   },
   "file_extension": ".py",
   "mimetype": "text/x-python",
   "name": "python",
   "nbconvert_exporter": "python",
   "pygments_lexer": "ipython3",
   "version": "3.8.5"
  }
 },
 "nbformat": 4,
 "nbformat_minor": 2
}
